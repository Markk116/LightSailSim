{
 "cells": [
  {
   "cell_type": "markdown",
   "id": "e726c70f",
   "metadata": {},
   "source": [
    "# An inquiry of the influence of scaling laws on the feasibility of annular structural frames for the purpose of providing structural stability to ultrathin lightsails\n",
    "\n",
    "\\textcite{cassenti_design_2020} discusses strategies for tensioning a lightsail and shows that using a ring of material to tension the sail like the skin of a drum is likely, not feasible due to the tight mass constraints. An example calculation suggests the requirement of a solid ring of material 26 $cm$ on end. However, they make some assumptions in their analysis that warrants further exploration. \n",
    "\n",
    "The two assumptions that warrant the most scrutiny are the dimentions of the sail and the assumed stress on it. \n",
    "\n",
    "The analysis starts by equating the compressive stress in the ring, $\\sigma_R$ with the force of the sail: \n",
    "\n",
    "$$\n",
    "\\sigma_R = \\frac{\\sigma h r_0}{A_r}\n",
    "$$ \n",
    "\n",
    "Where $A_r$ is the area of the ring\n",
    "\n",
    "The lowest buckling stress for this type of structure loaded in this way is \n",
    "\n",
    "$$\n",
    "\\sigma_{op} = \\frac{9\\alpha}{1+4\\alpha} \\frac{EI}{r_0^3} \\frac{h}{A_r}\n",
    "$$\n",
    "\n",
    "Where $\\alpha = GJ/EI = J/(I(1+\\nu)$\n",
    "\n"
   ]
  },
  {
   "cell_type": "code",
   "execution_count": 109,
   "id": "603522ef",
   "metadata": {},
   "outputs": [
    {
     "name": "stdout",
     "output_type": "stream",
     "text": [
      "Sigma critical: 214, sigma applied: 296\n"
     ]
    }
   ],
   "source": [
    "# Import statemetns\n",
    "import numpy as np\n",
    "\n",
    "# Function Definitions\n",
    "\n",
    "def find_G(E,v):\n",
    "    return E/(1+v)\n",
    "\n",
    "def find_alpha(G, J, E, I):\n",
    "    return G*J / (E*I)\n",
    "\n",
    "def find_mmoi(b,h):\n",
    "    return 1/12 * b * h**3\n",
    "\n",
    "def find_J(b,h):\n",
    "    return 1/16 * b * h**3 * (16/3 - 3.36 * h/b * (1-h**4/(12*b**4)))\n",
    "\n",
    "def buckling_stress(A_r, h, E, I, r_0, alpha):\n",
    "    return 9 * alpha * E * I * h / (A_r * (1 + 4 * alpha) * r_0 **3)\n",
    "\n",
    "\n",
    "# Material properties\n",
    "SiN = {} # https://www.memsnet.org/material/siliconnitridesi3n4/\n",
    "SiN['E'] = 200e9 # Pa\n",
    "SiN['rho'] = 3184 # kg/m^3\n",
    "SiN[\"v\"] = 0.24 # Poisson's ratio\n",
    "SiN[\"G\"] = find_G(SiN['E'], SiN['v']) # Shear Modulus\n",
    "SiN['sigma_limit'] = 0.4e9 # Pa, I know it's a lot less than the 3-6 GPa you said but I cant source that\n",
    "\n",
    "# Geometric properties\n",
    "t = 100e-9 # m Sail thickness\n",
    "r = 1 # m Sail radius\n",
    "w = 0.26 # m Ring Width\n",
    "\n",
    "def find_area_of_ring(sigma = SiN['sigma_limit']/2, t = t, r = r):\n",
    "    A_r = w**2\n",
    "    J = find_J(w,w)\n",
    "    I = find_mmoi(w,w)\n",
    "    alpha = find_alpha(SiN['G'],J, SiN['E'], I )\n",
    "\n",
    "    sigma_critical = buckling_stress(A_r, t, SiN['E'], I, r, alpha)\n",
    "    sigma_applied = sigma * t * r / A_r\n",
    "\n",
    "    print(\"Sigma critical: {:.0F}, sigma applied: {:.0F}\".format(sigma_critical,sigma_applied))\n",
    "    return sigma_critical, sigma_applied\n",
    "\n",
    "find_area_of_ring()"
   ]
  }
 ],
 "metadata": {
  "kernelspec": {
   "display_name": "Python 3 (ipykernel)",
   "language": "python",
   "name": "python3"
  },
  "language_info": {
   "codemirror_mode": {
    "name": "ipython",
    "version": 3
   },
   "file_extension": ".py",
   "mimetype": "text/x-python",
   "name": "python",
   "nbconvert_exporter": "python",
   "pygments_lexer": "ipython3",
   "version": "3.10.9"
  }
 },
 "nbformat": 4,
 "nbformat_minor": 5
}
